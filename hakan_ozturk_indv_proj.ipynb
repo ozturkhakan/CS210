{
 "cells": [
  {
   "cell_type": "markdown",
   "metadata": {},
   "source": [
    "# Individual Project\n",
    "\n",
    "In this project I used libraries like **pandas, numoy, matplot** etc in order to analyze and explore NYC taxi trips in a span of 2 weeks.\n",
    "\n",
    "First of all, in the first cell we look for the properties of the dataset we have.(Types, size etc.)\n",
    "\n",
    "**Description**\n",
    "\n",
    "The project consists of two parts; data exploration and hypothesis testing. In data exploration, you\n",
    "will extract and present insights about the data. And in the second part, you will evaluate two hypothesis\n",
    "regarding trip distances.\n",
    "\n",
    "\n",
    "# Data Exploration"
   ]
  },
  {
   "cell_type": "code",
   "execution_count": 2,
   "metadata": {},
   "outputs": [
    {
     "name": "stdout",
     "output_type": "stream",
     "text": [
      "(118185, 11)\n",
      "id                     object\n",
      "vendor_id             float64\n",
      "pickup_datetime        object\n",
      "dropoff_datetime       object\n",
      "passenger_count       float64\n",
      "pickup_longitude      float64\n",
      "pickup_latitude       float64\n",
      "dropoff_longitude     float64\n",
      "dropoff_latitude      float64\n",
      "store_and_fwd_flag     object\n",
      "trip_duration         float64\n",
      "dtype: object\n"
     ]
    },
    {
     "data": {
      "text/html": [
       "<div>\n",
       "<style scoped>\n",
       "    .dataframe tbody tr th:only-of-type {\n",
       "        vertical-align: middle;\n",
       "    }\n",
       "\n",
       "    .dataframe tbody tr th {\n",
       "        vertical-align: top;\n",
       "    }\n",
       "\n",
       "    .dataframe thead th {\n",
       "        text-align: right;\n",
       "    }\n",
       "</style>\n",
       "<table border=\"1\" class=\"dataframe\">\n",
       "  <thead>\n",
       "    <tr style=\"text-align: right;\">\n",
       "      <th></th>\n",
       "      <th>vendor_id</th>\n",
       "      <th>passenger_count</th>\n",
       "      <th>pickup_longitude</th>\n",
       "      <th>pickup_latitude</th>\n",
       "      <th>dropoff_longitude</th>\n",
       "      <th>dropoff_latitude</th>\n",
       "      <th>trip_duration</th>\n",
       "    </tr>\n",
       "  </thead>\n",
       "  <tbody>\n",
       "    <tr>\n",
       "      <th>count</th>\n",
       "      <td>118185.000000</td>\n",
       "      <td>118185.000000</td>\n",
       "      <td>118185.000000</td>\n",
       "      <td>118185.000000</td>\n",
       "      <td>118185.000000</td>\n",
       "      <td>118185.000000</td>\n",
       "      <td>118185.000000</td>\n",
       "    </tr>\n",
       "    <tr>\n",
       "      <th>mean</th>\n",
       "      <td>1.534958</td>\n",
       "      <td>1.657148</td>\n",
       "      <td>-73.973971</td>\n",
       "      <td>40.751392</td>\n",
       "      <td>-73.973538</td>\n",
       "      <td>40.752212</td>\n",
       "      <td>927.186310</td>\n",
       "    </tr>\n",
       "    <tr>\n",
       "      <th>std</th>\n",
       "      <td>0.498779</td>\n",
       "      <td>1.313844</td>\n",
       "      <td>0.040456</td>\n",
       "      <td>0.027958</td>\n",
       "      <td>0.039192</td>\n",
       "      <td>0.032284</td>\n",
       "      <td>3118.710246</td>\n",
       "    </tr>\n",
       "    <tr>\n",
       "      <th>min</th>\n",
       "      <td>1.000000</td>\n",
       "      <td>0.000000</td>\n",
       "      <td>-79.487900</td>\n",
       "      <td>40.225803</td>\n",
       "      <td>-79.487900</td>\n",
       "      <td>40.225800</td>\n",
       "      <td>1.000000</td>\n",
       "    </tr>\n",
       "    <tr>\n",
       "      <th>25%</th>\n",
       "      <td>1.000000</td>\n",
       "      <td>1.000000</td>\n",
       "      <td>-73.991875</td>\n",
       "      <td>40.737835</td>\n",
       "      <td>-73.991394</td>\n",
       "      <td>40.736462</td>\n",
       "      <td>393.000000</td>\n",
       "    </tr>\n",
       "    <tr>\n",
       "      <th>50%</th>\n",
       "      <td>2.000000</td>\n",
       "      <td>1.000000</td>\n",
       "      <td>-73.981796</td>\n",
       "      <td>40.754501</td>\n",
       "      <td>-73.979759</td>\n",
       "      <td>40.754848</td>\n",
       "      <td>652.000000</td>\n",
       "    </tr>\n",
       "    <tr>\n",
       "      <th>75%</th>\n",
       "      <td>2.000000</td>\n",
       "      <td>2.000000</td>\n",
       "      <td>-73.967575</td>\n",
       "      <td>40.768471</td>\n",
       "      <td>-73.962990</td>\n",
       "      <td>40.770077</td>\n",
       "      <td>1048.000000</td>\n",
       "    </tr>\n",
       "    <tr>\n",
       "      <th>max</th>\n",
       "      <td>2.000000</td>\n",
       "      <td>6.000000</td>\n",
       "      <td>-73.425018</td>\n",
       "      <td>41.292198</td>\n",
       "      <td>-73.055977</td>\n",
       "      <td>41.292198</td>\n",
       "      <td>86366.000000</td>\n",
       "    </tr>\n",
       "  </tbody>\n",
       "</table>\n",
       "</div>"
      ],
      "text/plain": [
       "           vendor_id  passenger_count  pickup_longitude  pickup_latitude  \\\n",
       "count  118185.000000    118185.000000     118185.000000    118185.000000   \n",
       "mean        1.534958         1.657148        -73.973971        40.751392   \n",
       "std         0.498779         1.313844          0.040456         0.027958   \n",
       "min         1.000000         0.000000        -79.487900        40.225803   \n",
       "25%         1.000000         1.000000        -73.991875        40.737835   \n",
       "50%         2.000000         1.000000        -73.981796        40.754501   \n",
       "75%         2.000000         2.000000        -73.967575        40.768471   \n",
       "max         2.000000         6.000000        -73.425018        41.292198   \n",
       "\n",
       "       dropoff_longitude  dropoff_latitude  trip_duration  \n",
       "count      118185.000000     118185.000000  118185.000000  \n",
       "mean          -73.973538         40.752212     927.186310  \n",
       "std             0.039192          0.032284    3118.710246  \n",
       "min           -79.487900         40.225800       1.000000  \n",
       "25%           -73.991394         40.736462     393.000000  \n",
       "50%           -73.979759         40.754848     652.000000  \n",
       "75%           -73.962990         40.770077    1048.000000  \n",
       "max           -73.055977         41.292198   86366.000000  "
      ]
     },
     "execution_count": 2,
     "metadata": {},
     "output_type": "execute_result"
    }
   ],
   "source": [
    "import numpy as np # np as an alias for numpy\n",
    "import pandas as pd  # an alias for pandas\n",
    "import matplotlib.pyplot as plt\n",
    "import reverse_geocoder as rg\n",
    "from os.path import join\n",
    "import csv\n",
    "import seaborn as sns\n",
    "from scipy import stats\n",
    "\n",
    "filename= \"taxi-trips.csv\"\n",
    "data_path=\"\"\n",
    "\n",
    "df = pd.read_csv(join(data_path, filename), delimiter=\",\",quoting=csv.QUOTE_NONNUMERIC)\n",
    "\n",
    "df_c = df.copy()\n",
    "#df_c[\"pickup_district\"] = \"a\"\n",
    "\n",
    "print(df_c.shape)\n",
    "print(df_c.dtypes)\n",
    "df_c.describe()\n",
    "\n",
    "\n"
   ]
  },
  {
   "cell_type": "markdown",
   "metadata": {},
   "source": [
    "\n",
    "\n",
    "In the cell below, I took out the pickup and dropoff coordinates from dataframe as lists, and put the lists in a **rg.search** function to have the district values of every coordination and append them as new columns to dataframe named **pickup_district** and **dropoff_district.**\n",
    "\n"
   ]
  },
  {
   "cell_type": "code",
   "execution_count": 3,
   "metadata": {},
   "outputs": [
    {
     "name": "stdout",
     "output_type": "stream",
     "text": [
      "Loading formatted geocoded file...\n"
     ]
    },
    {
     "data": {
      "text/html": [
       "<div>\n",
       "<style scoped>\n",
       "    .dataframe tbody tr th:only-of-type {\n",
       "        vertical-align: middle;\n",
       "    }\n",
       "\n",
       "    .dataframe tbody tr th {\n",
       "        vertical-align: top;\n",
       "    }\n",
       "\n",
       "    .dataframe thead th {\n",
       "        text-align: right;\n",
       "    }\n",
       "</style>\n",
       "<table border=\"1\" class=\"dataframe\">\n",
       "  <thead>\n",
       "    <tr style=\"text-align: right;\">\n",
       "      <th></th>\n",
       "      <th>id</th>\n",
       "      <th>vendor_id</th>\n",
       "      <th>pickup_datetime</th>\n",
       "      <th>dropoff_datetime</th>\n",
       "      <th>passenger_count</th>\n",
       "      <th>pickup_longitude</th>\n",
       "      <th>pickup_latitude</th>\n",
       "      <th>dropoff_longitude</th>\n",
       "      <th>dropoff_latitude</th>\n",
       "      <th>store_and_fwd_flag</th>\n",
       "      <th>trip_duration</th>\n",
       "      <th>pickup_district</th>\n",
       "      <th>dropoff_district</th>\n",
       "    </tr>\n",
       "  </thead>\n",
       "  <tbody>\n",
       "    <tr>\n",
       "      <th>0</th>\n",
       "      <td>id2875421</td>\n",
       "      <td>2.0</td>\n",
       "      <td>2016-03-14 17:24:55</td>\n",
       "      <td>2016-03-14 17:32:30</td>\n",
       "      <td>1.0</td>\n",
       "      <td>-73.982155</td>\n",
       "      <td>40.767937</td>\n",
       "      <td>-73.964630</td>\n",
       "      <td>40.765602</td>\n",
       "      <td>N</td>\n",
       "      <td>455.0</td>\n",
       "      <td>Manhattan</td>\n",
       "      <td>Manhattan</td>\n",
       "    </tr>\n",
       "    <tr>\n",
       "      <th>1</th>\n",
       "      <td>id0012891</td>\n",
       "      <td>2.0</td>\n",
       "      <td>2016-03-10 21:45:01</td>\n",
       "      <td>2016-03-10 22:05:26</td>\n",
       "      <td>1.0</td>\n",
       "      <td>-73.981049</td>\n",
       "      <td>40.744339</td>\n",
       "      <td>-73.973000</td>\n",
       "      <td>40.789989</td>\n",
       "      <td>N</td>\n",
       "      <td>1225.0</td>\n",
       "      <td>Long Island City</td>\n",
       "      <td>Manhattan</td>\n",
       "    </tr>\n",
       "    <tr>\n",
       "      <th>2</th>\n",
       "      <td>id3361153</td>\n",
       "      <td>1.0</td>\n",
       "      <td>2016-03-11 07:11:23</td>\n",
       "      <td>2016-03-11 07:20:09</td>\n",
       "      <td>1.0</td>\n",
       "      <td>-73.994560</td>\n",
       "      <td>40.750526</td>\n",
       "      <td>-73.978500</td>\n",
       "      <td>40.756191</td>\n",
       "      <td>N</td>\n",
       "      <td>526.0</td>\n",
       "      <td>Weehawken</td>\n",
       "      <td>Manhattan</td>\n",
       "    </tr>\n",
       "    <tr>\n",
       "      <th>3</th>\n",
       "      <td>id2129090</td>\n",
       "      <td>1.0</td>\n",
       "      <td>2016-03-14 14:05:39</td>\n",
       "      <td>2016-03-14 14:28:05</td>\n",
       "      <td>1.0</td>\n",
       "      <td>-73.975090</td>\n",
       "      <td>40.758766</td>\n",
       "      <td>-73.953201</td>\n",
       "      <td>40.765068</td>\n",
       "      <td>N</td>\n",
       "      <td>1346.0</td>\n",
       "      <td>Manhattan</td>\n",
       "      <td>Long Island City</td>\n",
       "    </tr>\n",
       "    <tr>\n",
       "      <th>4</th>\n",
       "      <td>id0256505</td>\n",
       "      <td>1.0</td>\n",
       "      <td>2016-03-14 15:04:38</td>\n",
       "      <td>2016-03-14 15:16:13</td>\n",
       "      <td>1.0</td>\n",
       "      <td>-73.994484</td>\n",
       "      <td>40.745087</td>\n",
       "      <td>-73.998993</td>\n",
       "      <td>40.722710</td>\n",
       "      <td>N</td>\n",
       "      <td>695.0</td>\n",
       "      <td>New York City</td>\n",
       "      <td>New York City</td>\n",
       "    </tr>\n",
       "  </tbody>\n",
       "</table>\n",
       "</div>"
      ],
      "text/plain": [
       "          id  vendor_id      pickup_datetime     dropoff_datetime  \\\n",
       "0  id2875421        2.0  2016-03-14 17:24:55  2016-03-14 17:32:30   \n",
       "1  id0012891        2.0  2016-03-10 21:45:01  2016-03-10 22:05:26   \n",
       "2  id3361153        1.0  2016-03-11 07:11:23  2016-03-11 07:20:09   \n",
       "3  id2129090        1.0  2016-03-14 14:05:39  2016-03-14 14:28:05   \n",
       "4  id0256505        1.0  2016-03-14 15:04:38  2016-03-14 15:16:13   \n",
       "\n",
       "   passenger_count  pickup_longitude  pickup_latitude  dropoff_longitude  \\\n",
       "0              1.0        -73.982155        40.767937         -73.964630   \n",
       "1              1.0        -73.981049        40.744339         -73.973000   \n",
       "2              1.0        -73.994560        40.750526         -73.978500   \n",
       "3              1.0        -73.975090        40.758766         -73.953201   \n",
       "4              1.0        -73.994484        40.745087         -73.998993   \n",
       "\n",
       "   dropoff_latitude store_and_fwd_flag  trip_duration   pickup_district  \\\n",
       "0         40.765602                  N          455.0         Manhattan   \n",
       "1         40.789989                  N         1225.0  Long Island City   \n",
       "2         40.756191                  N          526.0         Weehawken   \n",
       "3         40.765068                  N         1346.0         Manhattan   \n",
       "4         40.722710                  N          695.0     New York City   \n",
       "\n",
       "   dropoff_district  \n",
       "0         Manhattan  \n",
       "1         Manhattan  \n",
       "2         Manhattan  \n",
       "3  Long Island City  \n",
       "4     New York City  "
      ]
     },
     "execution_count": 3,
     "metadata": {},
     "output_type": "execute_result"
    }
   ],
   "source": [
    "pickupCoord = [(str(row[6]),str(row[5])) for row in csv.reader(open(filename,'rt'),delimiter=',')]\n",
    "\n",
    "\n",
    "del pickupCoord[0]\n",
    "\n",
    "pickUpDict = rg.search(pickupCoord)\n",
    "listN=[]\n",
    "for x in range(0,len(pickUpDict)):\n",
    "    listN.append(pickUpDict[x].get('name'))\n",
    "    \n",
    "\n",
    "df_c[\"pickup_district\"]=listN\n",
    "df_c.head()\n",
    "\n",
    "##############################\n",
    "\n",
    "dropOffCoord = [(str(row[8]),str(row[7])) for row in csv.reader(open(filename,'rt'),delimiter=',')]\n",
    "\n",
    "del dropOffCoord[0]\n",
    "\n",
    "dropOffDict = rg.search(dropOffCoord)\n",
    "droplist=[]\n",
    "for k in range(0,len(dropOffDict)):\n",
    "    droplist.append(dropOffDict[k].get('name'))\n",
    "    \n",
    "df_c[\"dropoff_district\"] = droplist\n",
    "\n",
    "#df_c = df_c[df_c.pickup_district != 'chad']\n",
    "\n",
    "df_c.head()\n"
   ]
  },
  {
   "cell_type": "markdown",
   "metadata": {},
   "source": [
    "\n",
    "\n",
    "\n",
    "**Top 5 Pickup Districts**"
   ]
  },
  {
   "cell_type": "code",
   "execution_count": 4,
   "metadata": {},
   "outputs": [
    {
     "data": {
      "text/plain": [
       "Manhattan           45329\n",
       "New York City       34625\n",
       "Long Island City    17787\n",
       "Weehawken           11334\n",
       "The Bronx            2777\n",
       "Name: pickup_district, dtype: int64"
      ]
     },
     "execution_count": 4,
     "metadata": {},
     "output_type": "execute_result"
    }
   ],
   "source": [
    "df_c[\"pickup_district\"].value_counts()[0:5]"
   ]
  },
  {
   "cell_type": "markdown",
   "metadata": {},
   "source": [
    "\n",
    "\n",
    "**Top 5 Dropoff Districts**"
   ]
  },
  {
   "cell_type": "code",
   "execution_count": 5,
   "metadata": {},
   "outputs": [
    {
     "data": {
      "text/plain": [
       "Manhattan           44478\n",
       "New York City       31082\n",
       "Long Island City    19919\n",
       "Weehawken           10621\n",
       "Brooklyn             2059\n",
       "Name: dropoff_district, dtype: int64"
      ]
     },
     "execution_count": 5,
     "metadata": {},
     "output_type": "execute_result"
    }
   ],
   "source": [
    "df_c[\"dropoff_district\"].value_counts()[0:5]"
   ]
  },
  {
   "cell_type": "markdown",
   "metadata": {},
   "source": [
    "\n",
    "\n",
    "**I put all coordinate lists in geodesic function to find the distances between pickup and dropoff coordinates, and append the distance(in miles) to the dataframe.**"
   ]
  },
  {
   "cell_type": "code",
   "execution_count": 6,
   "metadata": {},
   "outputs": [
    {
     "data": {
      "text/html": [
       "<div>\n",
       "<style scoped>\n",
       "    .dataframe tbody tr th:only-of-type {\n",
       "        vertical-align: middle;\n",
       "    }\n",
       "\n",
       "    .dataframe tbody tr th {\n",
       "        vertical-align: top;\n",
       "    }\n",
       "\n",
       "    .dataframe thead th {\n",
       "        text-align: right;\n",
       "    }\n",
       "</style>\n",
       "<table border=\"1\" class=\"dataframe\">\n",
       "  <thead>\n",
       "    <tr style=\"text-align: right;\">\n",
       "      <th></th>\n",
       "      <th>id</th>\n",
       "      <th>vendor_id</th>\n",
       "      <th>pickup_datetime</th>\n",
       "      <th>dropoff_datetime</th>\n",
       "      <th>passenger_count</th>\n",
       "      <th>pickup_longitude</th>\n",
       "      <th>pickup_latitude</th>\n",
       "      <th>dropoff_longitude</th>\n",
       "      <th>dropoff_latitude</th>\n",
       "      <th>store_and_fwd_flag</th>\n",
       "      <th>trip_duration</th>\n",
       "      <th>pickup_district</th>\n",
       "      <th>dropoff_district</th>\n",
       "      <th>distance</th>\n",
       "    </tr>\n",
       "  </thead>\n",
       "  <tbody>\n",
       "    <tr>\n",
       "      <th>0</th>\n",
       "      <td>id2875421</td>\n",
       "      <td>2.0</td>\n",
       "      <td>2016-03-14 17:24:55</td>\n",
       "      <td>2016-03-14 17:32:30</td>\n",
       "      <td>1.0</td>\n",
       "      <td>-73.982155</td>\n",
       "      <td>40.767937</td>\n",
       "      <td>-73.964630</td>\n",
       "      <td>40.765602</td>\n",
       "      <td>N</td>\n",
       "      <td>455.0</td>\n",
       "      <td>Manhattan</td>\n",
       "      <td>Manhattan</td>\n",
       "      <td>0.933406</td>\n",
       "    </tr>\n",
       "    <tr>\n",
       "      <th>1</th>\n",
       "      <td>id0012891</td>\n",
       "      <td>2.0</td>\n",
       "      <td>2016-03-10 21:45:01</td>\n",
       "      <td>2016-03-10 22:05:26</td>\n",
       "      <td>1.0</td>\n",
       "      <td>-73.981049</td>\n",
       "      <td>40.744339</td>\n",
       "      <td>-73.973000</td>\n",
       "      <td>40.789989</td>\n",
       "      <td>N</td>\n",
       "      <td>1225.0</td>\n",
       "      <td>Long Island City</td>\n",
       "      <td>Manhattan</td>\n",
       "      <td>3.178194</td>\n",
       "    </tr>\n",
       "    <tr>\n",
       "      <th>2</th>\n",
       "      <td>id3361153</td>\n",
       "      <td>1.0</td>\n",
       "      <td>2016-03-11 07:11:23</td>\n",
       "      <td>2016-03-11 07:20:09</td>\n",
       "      <td>1.0</td>\n",
       "      <td>-73.994560</td>\n",
       "      <td>40.750526</td>\n",
       "      <td>-73.978500</td>\n",
       "      <td>40.756191</td>\n",
       "      <td>N</td>\n",
       "      <td>526.0</td>\n",
       "      <td>Weehawken</td>\n",
       "      <td>Manhattan</td>\n",
       "      <td>0.928961</td>\n",
       "    </tr>\n",
       "    <tr>\n",
       "      <th>3</th>\n",
       "      <td>id2129090</td>\n",
       "      <td>1.0</td>\n",
       "      <td>2016-03-14 14:05:39</td>\n",
       "      <td>2016-03-14 14:28:05</td>\n",
       "      <td>1.0</td>\n",
       "      <td>-73.975090</td>\n",
       "      <td>40.758766</td>\n",
       "      <td>-73.953201</td>\n",
       "      <td>40.765068</td>\n",
       "      <td>N</td>\n",
       "      <td>1346.0</td>\n",
       "      <td>Manhattan</td>\n",
       "      <td>Long Island City</td>\n",
       "      <td>1.228003</td>\n",
       "    </tr>\n",
       "    <tr>\n",
       "      <th>4</th>\n",
       "      <td>id0256505</td>\n",
       "      <td>1.0</td>\n",
       "      <td>2016-03-14 15:04:38</td>\n",
       "      <td>2016-03-14 15:16:13</td>\n",
       "      <td>1.0</td>\n",
       "      <td>-73.994484</td>\n",
       "      <td>40.745087</td>\n",
       "      <td>-73.998993</td>\n",
       "      <td>40.722710</td>\n",
       "      <td>N</td>\n",
       "      <td>695.0</td>\n",
       "      <td>New York City</td>\n",
       "      <td>New York City</td>\n",
       "      <td>1.562103</td>\n",
       "    </tr>\n",
       "  </tbody>\n",
       "</table>\n",
       "</div>"
      ],
      "text/plain": [
       "          id  vendor_id      pickup_datetime     dropoff_datetime  \\\n",
       "0  id2875421        2.0  2016-03-14 17:24:55  2016-03-14 17:32:30   \n",
       "1  id0012891        2.0  2016-03-10 21:45:01  2016-03-10 22:05:26   \n",
       "2  id3361153        1.0  2016-03-11 07:11:23  2016-03-11 07:20:09   \n",
       "3  id2129090        1.0  2016-03-14 14:05:39  2016-03-14 14:28:05   \n",
       "4  id0256505        1.0  2016-03-14 15:04:38  2016-03-14 15:16:13   \n",
       "\n",
       "   passenger_count  pickup_longitude  pickup_latitude  dropoff_longitude  \\\n",
       "0              1.0        -73.982155        40.767937         -73.964630   \n",
       "1              1.0        -73.981049        40.744339         -73.973000   \n",
       "2              1.0        -73.994560        40.750526         -73.978500   \n",
       "3              1.0        -73.975090        40.758766         -73.953201   \n",
       "4              1.0        -73.994484        40.745087         -73.998993   \n",
       "\n",
       "   dropoff_latitude store_and_fwd_flag  trip_duration   pickup_district  \\\n",
       "0         40.765602                  N          455.0         Manhattan   \n",
       "1         40.789989                  N         1225.0  Long Island City   \n",
       "2         40.756191                  N          526.0         Weehawken   \n",
       "3         40.765068                  N         1346.0         Manhattan   \n",
       "4         40.722710                  N          695.0     New York City   \n",
       "\n",
       "   dropoff_district  distance  \n",
       "0         Manhattan  0.933406  \n",
       "1         Manhattan  3.178194  \n",
       "2         Manhattan  0.928961  \n",
       "3  Long Island City  1.228003  \n",
       "4     New York City  1.562103  "
      ]
     },
     "execution_count": 6,
     "metadata": {},
     "output_type": "execute_result"
    }
   ],
   "source": [
    "from geopy.distance import geodesic\n",
    "\n",
    "d=[]\n",
    "for m in range(0,len(pickupCoord)):\n",
    "    d.append(geodesic(pickupCoord[m], dropOffCoord[m]).miles)\n",
    "\n",
    "df_c[\"distance\"] = d\n",
    "df_c.head()\n",
    "\n"
   ]
  },
  {
   "cell_type": "markdown",
   "metadata": {},
   "source": [
    "\n",
    "\n",
    "\n",
    "**In the cell below, I used pickup_datetime and dropoff_datetime columns and put them into new columns, and using .hour function I reached hour value of datetime objects. After that, I added some conditions to change the hour values with labels determined in the project documentation. In the end, I created new column with label values with respect to each row's datetime object.**\n"
   ]
  },
  {
   "cell_type": "code",
   "execution_count": 7,
   "metadata": {
    "scrolled": true
   },
   "outputs": [
    {
     "data": {
      "text/html": [
       "<div>\n",
       "<style scoped>\n",
       "    .dataframe tbody tr th:only-of-type {\n",
       "        vertical-align: middle;\n",
       "    }\n",
       "\n",
       "    .dataframe tbody tr th {\n",
       "        vertical-align: top;\n",
       "    }\n",
       "\n",
       "    .dataframe thead th {\n",
       "        text-align: right;\n",
       "    }\n",
       "</style>\n",
       "<table border=\"1\" class=\"dataframe\">\n",
       "  <thead>\n",
       "    <tr style=\"text-align: right;\">\n",
       "      <th></th>\n",
       "      <th>id</th>\n",
       "      <th>vendor_id</th>\n",
       "      <th>pickup_datetime</th>\n",
       "      <th>dropoff_datetime</th>\n",
       "      <th>passenger_count</th>\n",
       "      <th>pickup_longitude</th>\n",
       "      <th>pickup_latitude</th>\n",
       "      <th>dropoff_longitude</th>\n",
       "      <th>dropoff_latitude</th>\n",
       "      <th>store_and_fwd_flag</th>\n",
       "      <th>trip_duration</th>\n",
       "      <th>pickup_district</th>\n",
       "      <th>dropoff_district</th>\n",
       "      <th>distance</th>\n",
       "      <th>time_of_day</th>\n",
       "    </tr>\n",
       "  </thead>\n",
       "  <tbody>\n",
       "    <tr>\n",
       "      <th>0</th>\n",
       "      <td>id2875421</td>\n",
       "      <td>2.0</td>\n",
       "      <td>2016-03-14 17:32:30</td>\n",
       "      <td>2016-03-14 17:32:30</td>\n",
       "      <td>1.0</td>\n",
       "      <td>-73.982155</td>\n",
       "      <td>40.767937</td>\n",
       "      <td>-73.964630</td>\n",
       "      <td>40.765602</td>\n",
       "      <td>N</td>\n",
       "      <td>455.0</td>\n",
       "      <td>Manhattan</td>\n",
       "      <td>Manhattan</td>\n",
       "      <td>0.933406</td>\n",
       "      <td>rush_hour_evening</td>\n",
       "    </tr>\n",
       "    <tr>\n",
       "      <th>1</th>\n",
       "      <td>id0012891</td>\n",
       "      <td>2.0</td>\n",
       "      <td>2016-03-10 22:05:26</td>\n",
       "      <td>2016-03-10 22:05:26</td>\n",
       "      <td>1.0</td>\n",
       "      <td>-73.981049</td>\n",
       "      <td>40.744339</td>\n",
       "      <td>-73.973000</td>\n",
       "      <td>40.789989</td>\n",
       "      <td>N</td>\n",
       "      <td>1225.0</td>\n",
       "      <td>Long Island City</td>\n",
       "      <td>Manhattan</td>\n",
       "      <td>3.178194</td>\n",
       "      <td>evening</td>\n",
       "    </tr>\n",
       "    <tr>\n",
       "      <th>2</th>\n",
       "      <td>id3361153</td>\n",
       "      <td>1.0</td>\n",
       "      <td>2016-03-11 07:20:09</td>\n",
       "      <td>2016-03-11 07:20:09</td>\n",
       "      <td>1.0</td>\n",
       "      <td>-73.994560</td>\n",
       "      <td>40.750526</td>\n",
       "      <td>-73.978500</td>\n",
       "      <td>40.756191</td>\n",
       "      <td>N</td>\n",
       "      <td>526.0</td>\n",
       "      <td>Weehawken</td>\n",
       "      <td>Manhattan</td>\n",
       "      <td>0.928961</td>\n",
       "      <td>rush_hour_morning</td>\n",
       "    </tr>\n",
       "    <tr>\n",
       "      <th>3</th>\n",
       "      <td>id2129090</td>\n",
       "      <td>1.0</td>\n",
       "      <td>2016-03-14 14:28:05</td>\n",
       "      <td>2016-03-14 14:28:05</td>\n",
       "      <td>1.0</td>\n",
       "      <td>-73.975090</td>\n",
       "      <td>40.758766</td>\n",
       "      <td>-73.953201</td>\n",
       "      <td>40.765068</td>\n",
       "      <td>N</td>\n",
       "      <td>1346.0</td>\n",
       "      <td>Manhattan</td>\n",
       "      <td>Long Island City</td>\n",
       "      <td>1.228003</td>\n",
       "      <td>afternoon</td>\n",
       "    </tr>\n",
       "    <tr>\n",
       "      <th>4</th>\n",
       "      <td>id0256505</td>\n",
       "      <td>1.0</td>\n",
       "      <td>2016-03-14 15:16:13</td>\n",
       "      <td>2016-03-14 15:16:13</td>\n",
       "      <td>1.0</td>\n",
       "      <td>-73.994484</td>\n",
       "      <td>40.745087</td>\n",
       "      <td>-73.998993</td>\n",
       "      <td>40.722710</td>\n",
       "      <td>N</td>\n",
       "      <td>695.0</td>\n",
       "      <td>New York City</td>\n",
       "      <td>New York City</td>\n",
       "      <td>1.562103</td>\n",
       "      <td>afternoon</td>\n",
       "    </tr>\n",
       "  </tbody>\n",
       "</table>\n",
       "</div>"
      ],
      "text/plain": [
       "          id  vendor_id     pickup_datetime     dropoff_datetime  \\\n",
       "0  id2875421        2.0 2016-03-14 17:32:30  2016-03-14 17:32:30   \n",
       "1  id0012891        2.0 2016-03-10 22:05:26  2016-03-10 22:05:26   \n",
       "2  id3361153        1.0 2016-03-11 07:20:09  2016-03-11 07:20:09   \n",
       "3  id2129090        1.0 2016-03-14 14:28:05  2016-03-14 14:28:05   \n",
       "4  id0256505        1.0 2016-03-14 15:16:13  2016-03-14 15:16:13   \n",
       "\n",
       "   passenger_count  pickup_longitude  pickup_latitude  dropoff_longitude  \\\n",
       "0              1.0        -73.982155        40.767937         -73.964630   \n",
       "1              1.0        -73.981049        40.744339         -73.973000   \n",
       "2              1.0        -73.994560        40.750526         -73.978500   \n",
       "3              1.0        -73.975090        40.758766         -73.953201   \n",
       "4              1.0        -73.994484        40.745087         -73.998993   \n",
       "\n",
       "   dropoff_latitude store_and_fwd_flag  trip_duration   pickup_district  \\\n",
       "0         40.765602                  N          455.0         Manhattan   \n",
       "1         40.789989                  N         1225.0  Long Island City   \n",
       "2         40.756191                  N          526.0         Weehawken   \n",
       "3         40.765068                  N         1346.0         Manhattan   \n",
       "4         40.722710                  N          695.0     New York City   \n",
       "\n",
       "   dropoff_district  distance        time_of_day  \n",
       "0         Manhattan  0.933406  rush_hour_evening  \n",
       "1         Manhattan  3.178194            evening  \n",
       "2         Manhattan  0.928961  rush_hour_morning  \n",
       "3  Long Island City  1.228003          afternoon  \n",
       "4     New York City  1.562103          afternoon  "
      ]
     },
     "execution_count": 7,
     "metadata": {},
     "output_type": "execute_result"
    }
   ],
   "source": [
    "from datetime import datetime\n",
    "from dateutil import parser\n",
    "\n",
    "\n",
    "pickupT = [(row[3]) for row in csv.reader(open(filename,'rt'),delimiter=',')]\n",
    "\n",
    "#print(len(pickupT))\n",
    "\n",
    "del pickupT[0]\n",
    "\n",
    "df_c[\"pickup_datetime\"] = pickupT\n",
    "\n",
    "df_c[\"pickup_datetime\"] = df_c[\"pickup_datetime\"].astype('datetime64[ns]')\n",
    "\n",
    "hours=df_c[\"pickup_datetime\"].dt.hour\n",
    "\n",
    "df_c[\"hour\"] = hours\n",
    "df_c[\"hour\"] = df_c[\"hour\"].astype(str)\n",
    "\n",
    "\n",
    "\n",
    "\n",
    "conditions = [\n",
    "    (df_c['hour'] == '7') | (df_c['hour'] == '8'),\n",
    "    (df_c['hour'] == '9') | (df_c['hour'] == '10') | (df_c['hour'] == '11') | (df_c['hour'] == '12') | (df_c['hour'] == '13') | (df_c['hour'] == '14') | (df_c['hour'] == '15'),\n",
    "    (df_c['hour'] == '16') | (df_c['hour'] == '17'),\n",
    "    (df_c['hour'] == '18') | (df_c['hour'] == '19') | (df_c['hour'] == '20') | (df_c['hour'] == '21') | (df_c['hour'] == '22'),\n",
    "    (df_c['hour'] == '23') | (df_c['hour'] == '0') | (df_c['hour'] == '1') | (df_c['hour'] == '2') | (df_c['hour'] == '3') | (df_c['hour'] == '4') | (df_c['hour'] == '5') | (df_c['hour'] == '6')\n",
    "            ]\n",
    "\n",
    "choices = [\"rush_hour_morning\", \"afternoon\", \"rush_hour_evening\",\"evening\",\"late_night\"]\n",
    "\n",
    "df_c[\"time_of_day\"] = np.select(conditions, choices)\n",
    "\n",
    "df_c.drop('hour', axis=1, inplace=True)\n",
    "\n",
    "df_c.head()\n",
    "\n",
    "\n"
   ]
  },
  {
   "cell_type": "markdown",
   "metadata": {},
   "source": [
    "\n",
    "\n",
    "\n",
    "\n",
    "\n",
    "\n",
    "\n",
    "\n",
    "\n",
    "\n",
    "**This is a bar graph of average distance covered of the trips in different times of the day. We can observe that mean of distance covered in late night is highest.**"
   ]
  },
  {
   "cell_type": "code",
   "execution_count": 8,
   "metadata": {},
   "outputs": [
    {
     "data": {
      "image/png": "[encoded data removed]",
      "text/plain": [
       "<Figure size 432x288 with 1 Axes>"
      ]
     },
     "metadata": {
      "needs_background": "light"
     },
     "output_type": "display_data"
    }
   ],
   "source": [
    "df_c.groupby('time_of_day')['distance'].mean().plot(kind='bar')\n",
    "\n",
    "plt.ylabel('average distance (miles)')\n",
    "plt.show()"
   ]
  },
  {
   "cell_type": "markdown",
   "metadata": {},
   "source": [
    "\n",
    "**This is a bar graph of average duration of the trips in different times of the day. We can observe that duration of trips in the rush hour evening is the highest.**"
   ]
  },
  {
   "cell_type": "code",
   "execution_count": 9,
   "metadata": {},
   "outputs": [
    {
     "data": {
      "image/png": "[encoded data removed]",
      "text/plain": [
       "<Figure size 432x288 with 1 Axes>"
      ]
     },
     "metadata": {
      "needs_background": "light"
     },
     "output_type": "display_data"
    }
   ],
   "source": [
    "df_c.groupby('time_of_day')['trip_duration'].mean().plot(kind='bar')\n",
    "\n",
    "plt.ylabel('trip duration')\n",
    "plt.show() "
   ]
  },
  {
   "cell_type": "code",
   "execution_count": 10,
   "metadata": {
    "scrolled": true
   },
   "outputs": [
    {
     "data": {
      "image/png": "[encoded data removed]",
      "text/plain": [
       "<Figure size 432x288 with 1 Axes>"
      ]
     },
     "metadata": {
      "needs_background": "light"
     },
     "output_type": "display_data"
    }
   ],
   "source": [
    "df_c2 = df_c.copy()\n",
    "\n",
    "df_c2=df_c2[df_c2.passenger_count != 0]\n",
    "\n",
    "df_c2.groupby('passenger_count')['distance'].mean().plot(kind='bar')\n",
    "plt.ylabel('distance')\n",
    "plt.show()\n"
   ]
  },
  {
   "cell_type": "code",
   "execution_count": 11,
   "metadata": {},
   "outputs": [
    {
     "name": "stdout",
     "output_type": "stream",
     "text": [
      "mean distance of 1+ passenger trip: 2.17\n",
      "mean distance of 1 passenger trip: 2.09\n",
      "mean distance of 2 passenger trip: 2.21\n",
      "mean distance of 3 passenger trip: 2.12\n",
      "mean distance of 4 passenger trip: 2.13\n",
      "mean distance of 5 passenger trip: 2.13\n",
      "mean distance of 6 passenger trip: 2.11\n"
     ]
    },
    {
     "name": "stderr",
     "output_type": "stream",
     "text": [
      "/Users/hakan/anaconda3/lib/python3.7/site-packages/scipy/stats/stats.py:1713: FutureWarning: Using a non-tuple sequence for multidimensional indexing is deprecated; use `arr[tuple(seq)]` instead of `arr[seq]`. In the future this will be interpreted as an array index, `arr[np.array(seq)]`, which will result either in an error or a different result.\n",
      "  return np.add.reduce(sorted[indexer] * weights, axis=axis) / sumval\n"
     ]
    },
    {
     "data": {
      "image/png": "[encoded data removed]",
      "text/plain": [
       "<Figure size 1440x360 with 3 Axes>"
      ]
     },
     "metadata": {
      "needs_background": "light"
     },
     "output_type": "display_data"
    },
    {
     "data": {
      "text/plain": [
       "Ttest_indResult(statistic=-4.903362110492283, pvalue=9.445117080443264e-07)"
      ]
     },
     "execution_count": 11,
     "metadata": {},
     "output_type": "execute_result"
    }
   ],
   "source": [
    "test_type = \"distance\"\n",
    "\n",
    "gplus1 = df_c[df_c[\"passenger_count\"] > 1.0][test_type] \n",
    "\n",
    "g1 = df_c[df_c[\"passenger_count\"] == 1.0][test_type]\n",
    "g2 = df_c[df_c[\"passenger_count\"] == 2.0][test_type] \n",
    "g3 = df_c[df_c[\"passenger_count\"] == 3.0][test_type]\n",
    "g4 = df_c[df_c[\"passenger_count\"] == 4.0][test_type] \n",
    "g5 = df_c[df_c[\"passenger_count\"] == 5.0][test_type]\n",
    "g6 = df_c[df_c[\"passenger_count\"] == 6.0][test_type] \n",
    "\n",
    "print(\"mean distance of 1+ passenger trip: {:.2f}\".format(gplus1.mean()))\n",
    "print(\"mean distance of 1 passenger trip: {:.2f}\".format(g1.mean()))\n",
    "print(\"mean distance of 2 passenger trip: {:.2f}\".format(g2.mean()))\n",
    "print(\"mean distance of 3 passenger trip: {:.2f}\".format(g3.mean()))\n",
    "print(\"mean distance of 4 passenger trip: {:.2f}\".format(g4.mean()))\n",
    "print(\"mean distance of 5 passenger trip: {:.2f}\".format(g5.mean()))\n",
    "print(\"mean distance of 6 passenger trip: {:.2f}\".format(g6.mean()))\n",
    "\n",
    "\n",
    "fig, ax = plt.subplots(1,3, figsize=(20,5))  \n",
    "\n",
    "g1.plot(kind=\"hist\", ax=ax[0], bins=10, label=\"completed\", color=\"c\")\n",
    "ax[0].set_title(\"Passenger Count: 1\")\n",
    "\n",
    "gplus1.plot(kind=\"hist\", ax=ax[1], bins=10, label=\"none\", color=\"m\")\n",
    "ax[1].set_title(\"Passenger Count: 1+\")\n",
    "\n",
    "sns.kdeplot(g1, shade=True, label=\"1 passenger\", ax=ax[2], color=\"c\")\n",
    "sns.kdeplot(gplus1, shade=True, label=\"1+ passenger\", ax=ax[2], color=\"m\")\n",
    "#sns.kdeplot(g3, shade=False, label=\"3 passenger\", ax=ax[2], color=\"y\")\n",
    "#sns.kdeplot(g4, shade=False, label=\"4 passenger\", ax=ax[2], color=\"r\")\n",
    "#sns.kdeplot(g5, shade=False, label=\"5 passenger\", ax=ax[2], color=\"g\")\n",
    "#sns.kdeplot(g6, shade=False, label=\"6 passenger\", ax=ax[2], color=\"b\")\n",
    "\n",
    "ax[2].set_title(\"Comparison with KDE\")\n",
    "\n",
    "plt.suptitle(\"Passenger Count\")\n",
    "\n",
    "plt.ylim([0,0.6])\n",
    "plt.xlim([-1,10])\n",
    "plt.show()\n",
    "\n",
    "stats.ttest_ind(g1, gplus1, equal_var=False)"
   ]
  },
  {
   "cell_type": "markdown",
   "metadata": {},
   "source": [
    "# Hypothesis Testing\n",
    "In the cell above, I printed the mean distances covered by passenger count. As we can observe 1+ passenger has more mean distance covered\n",
    "\n",
    "We stated in our **NULL HYPOTHESIS** that **passenger group size has no effect on the distance**. However, as we can observe in out P-Test, **p value of the datasets is lower than 0.05.** Which means that there is a relation between passenger count and distance covered."
   ]
  },
  {
   "cell_type": "code",
   "execution_count": 12,
   "metadata": {},
   "outputs": [
    {
     "data": {
      "image/png": "[encoded data removed]",
      "text/plain": [
       "<Figure size 432x288 with 1 Axes>"
      ]
     },
     "metadata": {
      "needs_background": "light"
     },
     "output_type": "display_data"
    }
   ],
   "source": [
    "days = df_c[\"pickup_datetime\"]\n",
    "\n",
    "dayname =[]\n",
    "\n",
    "for i in range (0,len(days)):\n",
    "    dayname.append(days[i].weekday())\n",
    "\n",
    "df_c[\"dayname\"] = dayname\n",
    "\n",
    "df_c.groupby('dayname')['distance'].mean().plot(kind='bar')\n",
    "\n",
    "plt.xlabel('Day')\n",
    "plt.ylabel('distance')\n",
    "plt.xticks([0,1,2,3,4,5,6],['Monday','Tuesday','Wednesday','Thursday','Friday','Saturday','Sunday'])\n",
    "plt.show()\n"
   ]
  },
  {
   "cell_type": "code",
   "execution_count": 13,
   "metadata": {},
   "outputs": [
    {
     "name": "stdout",
     "output_type": "stream",
     "text": [
      "mean distance of weekday trip: 2.08\n",
      "mean distance of weekend trip: 2.18\n"
     ]
    },
    {
     "data": {
      "text/plain": [
       "Ttest_indResult(statistic=-6.130309073279657, pvalue=8.820565255961394e-10)"
      ]
     },
     "execution_count": 13,
     "metadata": {},
     "output_type": "execute_result"
    },
    {
     "data": {
      "image/png": "[encoded data removed]",
      "text/plain": [
       "<Figure size 1440x360 with 3 Axes>"
      ]
     },
     "metadata": {
      "needs_background": "light"
     },
     "output_type": "display_data"
    }
   ],
   "source": [
    "fig, ax = plt.subplots(1, 3, figsize=(20,5))  # a figure with 1 row and 3 columns\n",
    "test_type =\"distance\"                       # ax variable stores a list with 3 elements\n",
    "                                              # each element in ax correspons to chart\n",
    "\n",
    "gr1 = df_c[df_c[\"dayname\"] < 5][test_type]\n",
    "gr2 = df_c[df_c[\"dayname\"] >= 5][test_type] \n",
    "\n",
    "gr1.plot(kind=\"hist\", ax=ax[0], bins=10, label=\"Weekdays\", color=\"c\")\n",
    "ax[0].set_title(\"Weekdays\")\n",
    "\n",
    "gr2.plot(kind=\"hist\", ax=ax[1], bins=10, label=\"Weekend\", color=\"m\")\n",
    "ax[1].set_title(\"Weeknd\")\n",
    "\n",
    "sns.kdeplot(gr1, shade=True, label=\"Weekdays\", ax=ax[2], color=\"c\")\n",
    "sns.kdeplot(gr2, shade=True, label=\"Weekend\", ax=ax[2], color=\"m\")\n",
    "\n",
    "plt.ylim([0,0.6])\n",
    "plt.xlim([-1,10])\n",
    "\n",
    "ax[2].set_title(\"Comparison with KDE\")\n",
    "\n",
    "plt.suptitle(\"Score Distributions\")\n",
    "\n",
    "print(\"mean distance of weekday trip: {:.2f}\".format(gr1.mean()))\n",
    "print(\"mean distance of weekend trip: {:.2f}\".format(gr2.mean()))\n",
    "\n",
    "stats.ttest_ind(gr1, gr2, equal_var=False)\n"
   ]
  },
  {
   "cell_type": "markdown",
   "metadata": {},
   "source": [
    "As we can observe in the output above, statistic value has negative value, which means first value is lower than the second value in the T test. and also, our **Null hypothesis is, The day of the week has no effect on the distance.**\n",
    "p value is smaller than 0.05 level. Therefore dataset we have doesnt support our Null hypothesis."
   ]
  }
 ],
 "metadata": {
  "kernelspec": {
   "display_name": "Python 3",
   "language": "python",
   "name": "python3"
  },
  "language_info": {
   "codemirror_mode": {
    "name": "ipython",
    "version": 3
   },
   "file_extension": ".py",
   "mimetype": "text/x-python",
   "name": "python",
   "nbconvert_exporter": "python",
   "pygments_lexer": "ipython3",
   "version": "3.7.1"
  }
 },
 "nbformat": 4,
 "nbformat_minor": 2
}
